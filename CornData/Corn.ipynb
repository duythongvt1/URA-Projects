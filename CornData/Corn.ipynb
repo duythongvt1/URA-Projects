{
 "cells": [
  {
   "cell_type": "code",
   "execution_count": 12,
   "metadata": {},
   "outputs": [],
   "source": [
    "import numpy as np\n",
    "import pandas as pd\n",
    "import matplotlib.pyplot as plt"
   ]
  },
  {
   "cell_type": "code",
   "execution_count": 40,
   "metadata": {},
   "outputs": [],
   "source": [
    "import warnings\n",
    "from sklearn.exceptions import DataConversionWarning\n",
    "# import warnings filter\n",
    "from warnings import simplefilter\n",
    "simplefilter(action='ignore', category=FutureWarning)\n",
    "warnings.filterwarnings(action='ignore', category=DataConversionWarning)"
   ]
  },
  {
   "cell_type": "code",
   "execution_count": 14,
   "metadata": {},
   "outputs": [
    {
     "data": {
      "text/html": [
       "<div>\n",
       "<style scoped>\n",
       "    .dataframe tbody tr th:only-of-type {\n",
       "        vertical-align: middle;\n",
       "    }\n",
       "\n",
       "    .dataframe tbody tr th {\n",
       "        vertical-align: top;\n",
       "    }\n",
       "\n",
       "    .dataframe thead th {\n",
       "        text-align: right;\n",
       "    }\n",
       "</style>\n",
       "<table border=\"1\" class=\"dataframe\">\n",
       "  <thead>\n",
       "    <tr style=\"text-align: right;\">\n",
       "      <th></th>\n",
       "      <th>Unnamed: 0</th>\n",
       "      <th>0</th>\n",
       "      <th>1</th>\n",
       "      <th>2</th>\n",
       "      <th>3</th>\n",
       "      <th>4</th>\n",
       "      <th>5</th>\n",
       "      <th>6</th>\n",
       "      <th>7</th>\n",
       "      <th>8</th>\n",
       "      <th>...</th>\n",
       "      <th>1126</th>\n",
       "      <th>1127</th>\n",
       "      <th>1128</th>\n",
       "      <th>1129</th>\n",
       "      <th>1130</th>\n",
       "      <th>1131</th>\n",
       "      <th>1132</th>\n",
       "      <th>1133</th>\n",
       "      <th>1134</th>\n",
       "      <th>output</th>\n",
       "    </tr>\n",
       "  </thead>\n",
       "  <tbody>\n",
       "    <tr>\n",
       "      <th>0</th>\n",
       "      <td>0</td>\n",
       "      <td>1</td>\n",
       "      <td>-1</td>\n",
       "      <td>1</td>\n",
       "      <td>1</td>\n",
       "      <td>1</td>\n",
       "      <td>0</td>\n",
       "      <td>1</td>\n",
       "      <td>-1</td>\n",
       "      <td>1</td>\n",
       "      <td>...</td>\n",
       "      <td>-1</td>\n",
       "      <td>1</td>\n",
       "      <td>-1</td>\n",
       "      <td>1</td>\n",
       "      <td>1</td>\n",
       "      <td>-1</td>\n",
       "      <td>0</td>\n",
       "      <td>0</td>\n",
       "      <td>-1</td>\n",
       "      <td>2.516485</td>\n",
       "    </tr>\n",
       "    <tr>\n",
       "      <th>1</th>\n",
       "      <td>1</td>\n",
       "      <td>1</td>\n",
       "      <td>-1</td>\n",
       "      <td>1</td>\n",
       "      <td>1</td>\n",
       "      <td>-1</td>\n",
       "      <td>-1</td>\n",
       "      <td>1</td>\n",
       "      <td>-1</td>\n",
       "      <td>1</td>\n",
       "      <td>...</td>\n",
       "      <td>-1</td>\n",
       "      <td>1</td>\n",
       "      <td>-1</td>\n",
       "      <td>0</td>\n",
       "      <td>1</td>\n",
       "      <td>-1</td>\n",
       "      <td>-1</td>\n",
       "      <td>1</td>\n",
       "      <td>0</td>\n",
       "      <td>1.640909</td>\n",
       "    </tr>\n",
       "    <tr>\n",
       "      <th>2</th>\n",
       "      <td>2</td>\n",
       "      <td>0</td>\n",
       "      <td>1</td>\n",
       "      <td>1</td>\n",
       "      <td>-1</td>\n",
       "      <td>-1</td>\n",
       "      <td>-1</td>\n",
       "      <td>1</td>\n",
       "      <td>-1</td>\n",
       "      <td>-1</td>\n",
       "      <td>...</td>\n",
       "      <td>-1</td>\n",
       "      <td>1</td>\n",
       "      <td>-1</td>\n",
       "      <td>1</td>\n",
       "      <td>1</td>\n",
       "      <td>-1</td>\n",
       "      <td>-1</td>\n",
       "      <td>1</td>\n",
       "      <td>0</td>\n",
       "      <td>0.416348</td>\n",
       "    </tr>\n",
       "    <tr>\n",
       "      <th>3</th>\n",
       "      <td>3</td>\n",
       "      <td>1</td>\n",
       "      <td>1</td>\n",
       "      <td>1</td>\n",
       "      <td>0</td>\n",
       "      <td>-1</td>\n",
       "      <td>1</td>\n",
       "      <td>1</td>\n",
       "      <td>-1</td>\n",
       "      <td>1</td>\n",
       "      <td>...</td>\n",
       "      <td>-1</td>\n",
       "      <td>1</td>\n",
       "      <td>-1</td>\n",
       "      <td>-1</td>\n",
       "      <td>1</td>\n",
       "      <td>-1</td>\n",
       "      <td>-1</td>\n",
       "      <td>1</td>\n",
       "      <td>0</td>\n",
       "      <td>1.338558</td>\n",
       "    </tr>\n",
       "    <tr>\n",
       "      <th>4</th>\n",
       "      <td>4</td>\n",
       "      <td>1</td>\n",
       "      <td>1</td>\n",
       "      <td>1</td>\n",
       "      <td>0</td>\n",
       "      <td>-1</td>\n",
       "      <td>-1</td>\n",
       "      <td>1</td>\n",
       "      <td>0</td>\n",
       "      <td>1</td>\n",
       "      <td>...</td>\n",
       "      <td>-1</td>\n",
       "      <td>1</td>\n",
       "      <td>-1</td>\n",
       "      <td>0</td>\n",
       "      <td>-1</td>\n",
       "      <td>-1</td>\n",
       "      <td>1</td>\n",
       "      <td>1</td>\n",
       "      <td>0</td>\n",
       "      <td>1.729517</td>\n",
       "    </tr>\n",
       "  </tbody>\n",
       "</table>\n",
       "<p>5 rows × 1137 columns</p>\n",
       "</div>"
      ],
      "text/plain": [
       "   Unnamed: 0  0  1  2  3  4  5  6  7  8  ...  1126  1127  1128  1129  1130  \\\n",
       "0           0  1 -1  1  1  1  0  1 -1  1  ...    -1     1    -1     1     1   \n",
       "1           1  1 -1  1  1 -1 -1  1 -1  1  ...    -1     1    -1     0     1   \n",
       "2           2  0  1  1 -1 -1 -1  1 -1 -1  ...    -1     1    -1     1     1   \n",
       "3           3  1  1  1  0 -1  1  1 -1  1  ...    -1     1    -1    -1     1   \n",
       "4           4  1  1  1  0 -1 -1  1  0  1  ...    -1     1    -1     0    -1   \n",
       "\n",
       "   1131  1132  1133  1134    output  \n",
       "0    -1     0     0    -1  2.516485  \n",
       "1    -1    -1     1     0  1.640909  \n",
       "2    -1    -1     1     0  0.416348  \n",
       "3    -1    -1     1     0  1.338558  \n",
       "4    -1     1     1     0  1.729517  \n",
       "\n",
       "[5 rows x 1137 columns]"
      ]
     },
     "execution_count": 14,
     "metadata": {},
     "output_type": "execute_result"
    }
   ],
   "source": [
    "raw_data = pd.read_csv(\"corn_data.csv\")\n",
    "raw_data.head()"
   ]
  },
  {
   "cell_type": "code",
   "execution_count": 15,
   "metadata": {
    "scrolled": false
   },
   "outputs": [
    {
     "name": "stdout",
     "output_type": "stream",
     "text": [
      "min: 0.0117532464005208 max: 4.9270454514617015 Total: 264\n"
     ]
    }
   ],
   "source": [
    "X = raw_data.iloc[:,1:-1]\n",
    "y = raw_data.iloc[:,-1:]\n",
    "total_count = len(y)\n",
    "print(\"min:\",min(np.array(y))[0],\"max:\",max(np.array(y))[0],\"Total:\",total_count)\n"
   ]
  },
  {
   "cell_type": "markdown",
   "metadata": {},
   "source": [
    "### Visualize Our Data"
   ]
  },
  {
   "cell_type": "code",
   "execution_count": 16,
   "metadata": {},
   "outputs": [
    {
     "data": {
      "image/png": "[encoded data removed]",
      "text/plain": [
       "<Figure size 432x288 with 1 Axes>"
      ]
     },
     "metadata": {
      "needs_background": "light"
     },
     "output_type": "display_data"
    }
   ],
   "source": [
    "hist, bin_edges = np.histogram(y, bins=5, range=(0,5))\n",
    "fig = plt.figure()\n",
    "plt.bar( bin_edges[:-1],hist, width=.98,align=\"edge\")\n",
    "plt.title(\"Output Distribution\")\n",
    "plt.show()\n"
   ]
  },
  {
   "cell_type": "markdown",
   "metadata": {},
   "source": [
    "### Stratify the Data\n",
    "Added on May 27, 2020\n",
    "    \n",
    "    \n",
    "    "
   ]
  },
  {
   "cell_type": "markdown",
   "metadata": {},
   "source": [
    "#### Take this simple step to stratify our data..."
   ]
  },
  {
   "cell_type": "code",
   "execution_count": 42,
   "metadata": {
    "scrolled": true
   },
   "outputs": [
    {
     "data": {
      "text/plain": [
       "array([[2, 1, 0, 1, 1, 2, 1, 1, 2, 2, 2, 2, 3, 3, 2]])"
      ]
     },
     "execution_count": 42,
     "metadata": {},
     "output_type": "execute_result"
    }
   ],
   "source": [
    "y_stf = np.array(y,dtype=\"int\")\n",
    "y_stf[:15].T #print out the first 15 elements for visualization purposes"
   ]
  },
  {
   "cell_type": "code",
   "execution_count": 99,
   "metadata": {},
   "outputs": [
    {
     "data": {
      "image/png": "[encoded data removed]",
      "text/plain": [
       "<Figure size 432x288 with 1 Axes>"
      ]
     },
     "metadata": {
      "needs_background": "light"
     },
     "output_type": "display_data"
    },
    {
     "data": {
      "image/png": "[encoded data removed]",
      "text/plain": [
       "<Figure size 432x288 with 1 Axes>"
      ]
     },
     "metadata": {
      "needs_background": "light"
     },
     "output_type": "display_data"
    }
   ],
   "source": [
    "from sklearn.model_selection import train_test_split  \n",
    "\n",
    "split = 0.25\n",
    "#Without Stratification\n",
    "X_train, X_test, y_train, y_test = train_test_split(X,y,test_size=split,random_state=1)\n",
    "hist_tr, bin_edges_tr = np.histogram(y_train, bins=5, range=(0,5))\n",
    "hist_test, bin_edges_test = np.histogram(y_test, bins=5, range=(0,5))\n",
    "fig,ax = plt.subplots()\n",
    "ax.bar( bin_edges_test[:-1],hist_test, width=.98,align=\"edge\",color=\"orange\",label=\"Test data\")\n",
    "ax.bar( bin_edges_tr[:-1],hist_tr, width=.98,align=\"edge\",bottom=hist_test,label=\"Train data\")\n",
    "ax.set_title(\"Test Split without Stratification\")\n",
    "ax.legend()\n",
    "\n",
    "\n",
    "#With Stratification\n",
    "X_train, X_test, y_train, y_test = train_test_split(X,y,test_size=split,random_state=1,stratify = y_stf)\n",
    "hist_tr, bin_edges_tr = np.histogram(y_train, bins=5, range=(0,5))\n",
    "hist_test, bin_edges_test = np.histogram(y_test, bins=5, range=(0,5))\n",
    "fig,ax = plt.subplots()\n",
    "ax.bar( bin_edges_test[:-1],hist_test, width=.98,align=\"edge\",color=\"orange\",label=\"Test data\")\n",
    "ax.bar( bin_edges_tr[:-1],hist_tr, width=.98,align=\"edge\",bottom=hist_test,label=\"Train data\")\n",
    "ax.set_title(\"Test Split with Stratification\")\n",
    "ax.legend()\n",
    "\n",
    "plt.show()"
   ]
  },
  {
   "cell_type": "code",
   "execution_count": 130,
   "metadata": {},
   "outputs": [],
   "source": [
    "from sklearn.metrics import r2_score\n",
    "# we use r2 because we are doing regression, not classification\n",
    "\n",
    "class PredictorScorer:\n",
    "    def __init__(self,X,y):\n",
    "        self.scores = {}\n",
    "        self.X = X\n",
    "        self.y = y\n",
    "        self.split = 0.25\n",
    "        self.stratify = np.array(y,dtype=\"int\")\n",
    "        self.iterations = 20\n",
    "        \n",
    "    def test(self,name,clf):\n",
    "        scores = []\n",
    "        for i in range(self.iterations):\n",
    "            X_train, X_test, y_train, y_test = train_test_split(X,y,test_size=self.split,\n",
    "                                                                random_state=i,stratify=self.stratify)\n",
    "            clf.fit(X_train,y_train)\n",
    "            y_predict_tr = clf.predict(X_train)\n",
    "            y_predict = clf.predict(X_test)    \n",
    "            scores.append([r2_score(y_train,y_predict_tr),r2_score(y_test,y_predict)])  \n",
    "        scores = np.array(scores)\n",
    "        self.scores[name] = [np.mean(scores[:,0]),np.mean(scores[:,1])]\n",
    "    \n",
    "    def labels(self):\n",
    "        return [x for x in self.scores]\n",
    "                        \n",
    "    def train_scores(self):\n",
    "        sc = np.array([self.scores[x] for x in self.scores])\n",
    "        return sc[:,0]\n",
    "        \n",
    "    def test_scores(self):\n",
    "        sc = np.array([self.scores[x] for x in self.scores])\n",
    "        return sc[:,1]\n",
    "\n",
    "    def draw_scores(self):\n",
    "        x = np.arange(len(self.labels()))  # the label locations\n",
    "#         y = np.linspace(0,1,11,endpoint=True)\n",
    "        width = 0.35  # the width of the bars\n",
    "        fig, ax = plt.subplots()\n",
    "        rects1 = ax.bar(x - width/2, self.train_scores(), width, label='Train Score')\n",
    "        rects2 = ax.bar(x + width/2, self.test_scores(), width, label='Test Score')\n",
    "        # Add some text for labels, title and custom x-axis tick labels, etc.\n",
    "        ax.set_ylabel('R2 Scores')\n",
    "        ax.set_title('R2 Scores by Predictors')\n",
    "        ax.set_xticks(x)\n",
    "#         ax.set_yticks(y)\n",
    "        ax.set_xticklabels(self.labels())\n",
    "        ax.legend()\n",
    "        \n",
    "        def autolabel(rects):\n",
    "            \"\"\"Attach a text label above each bar in *rects*, displaying its height.\"\"\"\n",
    "            for rect in rects:\n",
    "                height = rect.get_height()\n",
    "                i = 0\n",
    "                if height < 0:\n",
    "                    i = abs(height)+5\n",
    "                ax.annotate('{:.3f}'.format(height),\n",
    "                            xy=(rect.get_x() + rect.get_width() / 2, height),\n",
    "                            xytext=(0, 1+i),  # 3 points vertical offset\n",
    "                            textcoords=\"offset points\",\n",
    "                            ha='center', va='bottom')\n",
    "            \n",
    "        autolabel(rects1)\n",
    "        autolabel(rects2)\n",
    "        fig.tight_layout()\n",
    "        plt.show()\n",
    "        \n",
    "    def plot_graph(y,y_pred,title):\n",
    "        fig, ax = plt.subplots()\n",
    "        plt.axis([0,5,0,5])\n",
    "        ax.set_title(title)\n",
    "        plt.plot(y,y_pred,'o',color=\"black\")\n",
    "        plt.plot([x for x in np.arange(0,6)],[x for x in np.arange(0,6)],'r--',)\n",
    "        plt.show()\n",
    "\n"
   ]
  },
  {
   "cell_type": "code",
   "execution_count": 131,
   "metadata": {},
   "outputs": [
    {
     "name": "stdout",
     "output_type": "stream",
     "text": [
      "{'SVR': [0.7337363626571224, 0.17060726222259595], 'RFR': [0.8258286215161064, 0.05336452735094647], 'XGBoost': [0.9999997579780912, -0.026069359005635423]}\n"
     ]
    }
   ],
   "source": [
    "from sklearn.svm import SVR\n",
    "from sklearn.ensemble import RandomForestRegressor\n",
    "from xgboost import XGBRegressor\n",
    "\n",
    "scorer = PredictorScorer(X,y)\n",
    "\n",
    "xgb = XGBRegressor()\n",
    "svr = SVR()\n",
    "rfr = RandomForestRegressor()\n",
    "scorer.test(\"SVR\",svr)\n",
    "scorer.test(\"RFR\",rfr)\n",
    "scorer.test(\"XGBoost\",xgb)\n",
    "\n",
    "print(scorer.scores)\n"
   ]
  },
  {
   "cell_type": "code",
   "execution_count": 132,
   "metadata": {},
   "outputs": [
    {
     "data": {
      "image/png": "[encoded data removed]",
      "text/plain": [
       "<Figure size 432x288 with 1 Axes>"
      ]
     },
     "metadata": {
      "needs_background": "light"
     },
     "output_type": "display_data"
    }
   ],
   "source": [
    "scorer.draw_scores()"
   ]
  },
  {
   "cell_type": "code",
   "execution_count": null,
   "metadata": {},
   "outputs": [],
   "source": []
  },
  {
   "cell_type": "code",
   "execution_count": 192,
   "metadata": {},
   "outputs": [
    {
     "name": "stdout",
     "output_type": "stream",
     "text": [
      "(198, 1135) (66, 1135)\n",
      "(198, 750) (66, 750)\n"
     ]
    },
    {
     "name": "stderr",
     "output_type": "stream",
     "text": [
      "C:\\Program Files\\Anaconda\\lib\\site-packages\\sklearn\\utils\\validation.py:724: DataConversionWarning: A column-vector y was passed when a 1d array was expected. Please change the shape of y to (n_samples, ), for example using ravel().\n",
      "  y = column_or_1d(y, warn=True)\n"
     ]
    }
   ],
   "source": [
    "from sklearn.feature_selection import SelectKBest,f_regression\n",
    "\n",
    "skb = SelectKBest(f_regression,k=750)\n",
    "\n",
    "X_train_FS = skb.fit_transform(X_train, y_train)\n",
    "X_test_FS = skb.transform(X_test)\n",
    "\n",
    "print(X_train.shape,X_test.shape)\n",
    "print(X_train_FS.shape,X_test_FS.shape)"
   ]
  },
  {
   "cell_type": "code",
   "execution_count": 194,
   "metadata": {},
   "outputs": [],
   "source": [
    "# from sklearn import svm\n",
    "\n",
    "# reg_svr = svm.SVR()\n",
    "# reg_svr.fit(X_train,y_train)\n",
    "# y_predict_tr = reg_svr.predict(X_train)\n",
    "# y_predict = reg_svr.predict(X_test)\n",
    "# plot_graph(y_train,y_predict_tr,\"Training Set\")\n",
    "# plot_graph(y_test,y_predict,\"Test Set\")\n",
    "\n",
    "# reg_svr"
   ]
  },
  {
   "cell_type": "code",
   "execution_count": 193,
   "metadata": {},
   "outputs": [],
   "source": [
    "# from sklearn.linear_model import LinearRegression\n",
    "\n",
    "# reg_ln = LinearRegression()\n",
    "# reg_ln.fit(X_train,y_train)\n",
    "# y_predict_tr = reg_ln.predict(X_train)\n",
    "# y_predict = reg_ln.predict(X_test)\n",
    "# plot_graph(y_train,y_predict_tr,\"Training Set\")\n",
    "# plot_graph(y_test,y_predict,\"Test Set\")\n",
    "# plt.tight_layout()"
   ]
  },
  {
   "cell_type": "code",
   "execution_count": 195,
   "metadata": {},
   "outputs": [],
   "source": [
    "# from sklearn.ensemble import RandomForestRegressor\n",
    "\n",
    "# reg_rf = RandomForestRegressor(n_estimators=100)\n",
    "# reg_rf.fit(X_train,y_train)\n",
    "# y_predict_tr = reg_rf.predict(X_train)\n",
    "# y_predict = reg_rf.predict(X_test)\n",
    "# plot_graph(y_train,y_predict_tr,\"Training Set\")\n",
    "# plot_graph(y_test,y_predict,\"Test Set\")\n",
    "# plt.tight_layout()"
   ]
  },
  {
   "cell_type": "code",
   "execution_count": 196,
   "metadata": {
    "scrolled": true
   },
   "outputs": [],
   "source": [
    "from sklearn.model_selection import GridSearchCV\n",
    "\n"
   ]
  },
  {
   "cell_type": "markdown",
   "metadata": {},
   "source": [
    "##SELECTKBEST"
   ]
  },
  {
   "cell_type": "code",
   "execution_count": 197,
   "metadata": {},
   "outputs": [],
   "source": [
    "# from sklearn.linear_model import LinearRegression\n",
    "\n",
    "# reg_ln = LinearRegression()\n",
    "# reg_ln.fit(X_train_FS,y_train)\n",
    "# y_predict_tr = reg_ln.predict(X_train_FS)\n",
    "# y_predict = reg_ln.predict(X_test_FS)\n",
    "# plot_graph(y_train,y_predict_tr,\"Training Set\")\n",
    "# plot_graph(y_test,y_predict,\"Test Set\")"
   ]
  },
  {
   "cell_type": "code",
   "execution_count": 198,
   "metadata": {},
   "outputs": [],
   "source": [
    "# from sklearn.ensemble import RandomForestRegressor\n",
    "\n",
    "# reg_rf = RandomForestRegressor(n_estimators=100)\n",
    "# reg_rf.fit(X_train_FS,y_train)\n",
    "# y_predict_tr = reg_rf.predict(X_train_FS)\n",
    "# y_predict = reg_rf.predict(X_test_FS)\n",
    "# plot_graph(y_train,y_predict_tr,\"Training Set\")\n",
    "# plot_graph(y_test,y_predict,\"Test Set\")\n",
    "# plt.tight_layout()"
   ]
  },
  {
   "cell_type": "code",
   "execution_count": 199,
   "metadata": {
    "scrolled": false
   },
   "outputs": [],
   "source": [
    "# from sklearn import svm\n",
    "\n",
    "# reg_svr = svm.SVR(kernel=\"linear\")\n",
    "# reg_svr.fit(X_train_FS,y_train)\n",
    "# y_predict_tr = reg_svr.predict(X_train_FS)\n",
    "# y_predict = reg_svr.predict(X_test_FS)\n",
    "# plot_graph(y_train,y_predict_tr,\"Training Set\")\n",
    "# plot_graph(y_test,y_predict,\"Test Set\")\n",
    "\n",
    "# reg_svr"
   ]
  },
  {
   "cell_type": "code",
   "execution_count": 200,
   "metadata": {},
   "outputs": [],
   "source": [
    "# grid = {\n",
    "#     'C':[10],\n",
    "#     'cache_size':[50,200,500,1000],\n",
    "#     'coef0':[-50,-10,0], \n",
    "#     'degree':[1],\n",
    "#     'kernel':['linear','rbf']\n",
    "# #     gamma='auto_deprecated', \n",
    "# #     kernel='linear'\n",
    "# }\n",
    "# best_svr = svm.SVR()\n",
    "# gd_sr = GridSearchCV(estimator=best_svr, param_grid = grid, cv = 5, iid = False)\n",
    "# gd_sr.fit(X_train_FS, y_train)\n",
    "# best_param = gd_sr.best_params_"
   ]
  },
  {
   "cell_type": "code",
   "execution_count": 201,
   "metadata": {},
   "outputs": [],
   "source": [
    "\n",
    "\n",
    "# reg_svr = svm.SVR(C=best_param[\"C\"],\n",
    "#                   cache_size = best_param[\"cache_size\"],\n",
    "#                   kernel = best_param[\"kernel\"],\n",
    "#                   coef0= best_param['coef0'],\n",
    "#                   degree=best_param['degree'])\n",
    "\n",
    "# reg_svr.fit(X_train_FS,y_train)\n",
    "# y_predict_tr = reg_svr.predict(X_train_FS)\n",
    "# y_predict = reg_svr.predict(X_test_FS)\n",
    "# plot_graph(y_train,y_predict_tr,\"Training Set\")\n",
    "# plot_graph(y_test,y_predict,\"Test Set\")\n"
   ]
  },
  {
   "cell_type": "code",
   "execution_count": null,
   "metadata": {},
   "outputs": [],
   "source": []
  },
  {
   "cell_type": "code",
   "execution_count": null,
   "metadata": {},
   "outputs": [],
   "source": []
  },
  {
   "cell_type": "code",
   "execution_count": null,
   "metadata": {},
   "outputs": [],
   "source": []
  },
  {
   "cell_type": "code",
   "execution_count": null,
   "metadata": {},
   "outputs": [],
   "source": []
  }
 ],
 "metadata": {
  "kernelspec": {
   "display_name": "Python 3",
   "language": "python",
   "name": "python3"
  },
  "language_info": {
   "codemirror_mode": {
    "name": "ipython",
    "version": 3
   },
   "file_extension": ".py",
   "mimetype": "text/x-python",
   "name": "python",
   "nbconvert_exporter": "python",
   "pygments_lexer": "ipython3",
   "version": "3.7.3"
  }
 },
 "nbformat": 4,
 "nbformat_minor": 2
}
