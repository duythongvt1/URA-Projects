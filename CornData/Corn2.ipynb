{
 "cells": [
  {
   "cell_type": "code",
   "execution_count": 4,
   "metadata": {},
   "outputs": [],
   "source": [
    "import numpy as np\n",
    "import pandas as pd\n",
    "import matplotlib.pyplot as plt\n",
    "import seaborn as sns\n",
    "sns.set()\n",
    "%matplotlib inline"
   ]
  },
  {
   "cell_type": "code",
   "execution_count": 5,
   "metadata": {},
   "outputs": [],
   "source": [
    "from warnings import simplefilter,filterwarnings\n",
    "from sklearn.exceptions import DataConversionWarning\n",
    "simplefilter(action='ignore',category = FutureWarning)\n",
    "simplefilter(action='ignore',category = RuntimeWarning)\n",
    "filterwarnings(action='ignore',category=DataConversionWarning)"
   ]
  },
  {
   "cell_type": "markdown",
   "metadata": {},
   "source": [
    "## 0.0.1 Import Data"
   ]
  },
  {
   "cell_type": "code",
   "execution_count": 6,
   "metadata": {},
   "outputs": [
    {
     "data": {
      "text/html": [
       "<div>\n",
       "<style scoped>\n",
       "    .dataframe tbody tr th:only-of-type {\n",
       "        vertical-align: middle;\n",
       "    }\n",
       "\n",
       "    .dataframe tbody tr th {\n",
       "        vertical-align: top;\n",
       "    }\n",
       "\n",
       "    .dataframe thead th {\n",
       "        text-align: right;\n",
       "    }\n",
       "</style>\n",
       "<table border=\"1\" class=\"dataframe\">\n",
       "  <thead>\n",
       "    <tr style=\"text-align: right;\">\n",
       "      <th></th>\n",
       "      <th>Unnamed: 0</th>\n",
       "      <th>0</th>\n",
       "      <th>1</th>\n",
       "      <th>2</th>\n",
       "      <th>3</th>\n",
       "      <th>4</th>\n",
       "      <th>5</th>\n",
       "      <th>6</th>\n",
       "      <th>7</th>\n",
       "      <th>8</th>\n",
       "      <th>...</th>\n",
       "      <th>1126</th>\n",
       "      <th>1127</th>\n",
       "      <th>1128</th>\n",
       "      <th>1129</th>\n",
       "      <th>1130</th>\n",
       "      <th>1131</th>\n",
       "      <th>1132</th>\n",
       "      <th>1133</th>\n",
       "      <th>1134</th>\n",
       "      <th>output</th>\n",
       "    </tr>\n",
       "  </thead>\n",
       "  <tbody>\n",
       "    <tr>\n",
       "      <th>0</th>\n",
       "      <td>0</td>\n",
       "      <td>1</td>\n",
       "      <td>-1</td>\n",
       "      <td>1</td>\n",
       "      <td>1</td>\n",
       "      <td>1</td>\n",
       "      <td>0</td>\n",
       "      <td>1</td>\n",
       "      <td>-1</td>\n",
       "      <td>1</td>\n",
       "      <td>...</td>\n",
       "      <td>-1</td>\n",
       "      <td>1</td>\n",
       "      <td>-1</td>\n",
       "      <td>1</td>\n",
       "      <td>1</td>\n",
       "      <td>-1</td>\n",
       "      <td>0</td>\n",
       "      <td>0</td>\n",
       "      <td>-1</td>\n",
       "      <td>2.516485</td>\n",
       "    </tr>\n",
       "    <tr>\n",
       "      <th>1</th>\n",
       "      <td>1</td>\n",
       "      <td>1</td>\n",
       "      <td>-1</td>\n",
       "      <td>1</td>\n",
       "      <td>1</td>\n",
       "      <td>-1</td>\n",
       "      <td>-1</td>\n",
       "      <td>1</td>\n",
       "      <td>-1</td>\n",
       "      <td>1</td>\n",
       "      <td>...</td>\n",
       "      <td>-1</td>\n",
       "      <td>1</td>\n",
       "      <td>-1</td>\n",
       "      <td>0</td>\n",
       "      <td>1</td>\n",
       "      <td>-1</td>\n",
       "      <td>-1</td>\n",
       "      <td>1</td>\n",
       "      <td>0</td>\n",
       "      <td>1.640909</td>\n",
       "    </tr>\n",
       "    <tr>\n",
       "      <th>2</th>\n",
       "      <td>2</td>\n",
       "      <td>0</td>\n",
       "      <td>1</td>\n",
       "      <td>1</td>\n",
       "      <td>-1</td>\n",
       "      <td>-1</td>\n",
       "      <td>-1</td>\n",
       "      <td>1</td>\n",
       "      <td>-1</td>\n",
       "      <td>-1</td>\n",
       "      <td>...</td>\n",
       "      <td>-1</td>\n",
       "      <td>1</td>\n",
       "      <td>-1</td>\n",
       "      <td>1</td>\n",
       "      <td>1</td>\n",
       "      <td>-1</td>\n",
       "      <td>-1</td>\n",
       "      <td>1</td>\n",
       "      <td>0</td>\n",
       "      <td>0.416348</td>\n",
       "    </tr>\n",
       "    <tr>\n",
       "      <th>3</th>\n",
       "      <td>3</td>\n",
       "      <td>1</td>\n",
       "      <td>1</td>\n",
       "      <td>1</td>\n",
       "      <td>0</td>\n",
       "      <td>-1</td>\n",
       "      <td>1</td>\n",
       "      <td>1</td>\n",
       "      <td>-1</td>\n",
       "      <td>1</td>\n",
       "      <td>...</td>\n",
       "      <td>-1</td>\n",
       "      <td>1</td>\n",
       "      <td>-1</td>\n",
       "      <td>-1</td>\n",
       "      <td>1</td>\n",
       "      <td>-1</td>\n",
       "      <td>-1</td>\n",
       "      <td>1</td>\n",
       "      <td>0</td>\n",
       "      <td>1.338558</td>\n",
       "    </tr>\n",
       "    <tr>\n",
       "      <th>4</th>\n",
       "      <td>4</td>\n",
       "      <td>1</td>\n",
       "      <td>1</td>\n",
       "      <td>1</td>\n",
       "      <td>0</td>\n",
       "      <td>-1</td>\n",
       "      <td>-1</td>\n",
       "      <td>1</td>\n",
       "      <td>0</td>\n",
       "      <td>1</td>\n",
       "      <td>...</td>\n",
       "      <td>-1</td>\n",
       "      <td>1</td>\n",
       "      <td>-1</td>\n",
       "      <td>0</td>\n",
       "      <td>-1</td>\n",
       "      <td>-1</td>\n",
       "      <td>1</td>\n",
       "      <td>1</td>\n",
       "      <td>0</td>\n",
       "      <td>1.729517</td>\n",
       "    </tr>\n",
       "  </tbody>\n",
       "</table>\n",
       "<p>5 rows × 1137 columns</p>\n",
       "</div>"
      ],
      "text/plain": [
       "   Unnamed: 0  0  1  2  3  4  5  6  7  8  ...  1126  1127  1128  1129  1130  \\\n",
       "0           0  1 -1  1  1  1  0  1 -1  1  ...    -1     1    -1     1     1   \n",
       "1           1  1 -1  1  1 -1 -1  1 -1  1  ...    -1     1    -1     0     1   \n",
       "2           2  0  1  1 -1 -1 -1  1 -1 -1  ...    -1     1    -1     1     1   \n",
       "3           3  1  1  1  0 -1  1  1 -1  1  ...    -1     1    -1    -1     1   \n",
       "4           4  1  1  1  0 -1 -1  1  0  1  ...    -1     1    -1     0    -1   \n",
       "\n",
       "   1131  1132  1133  1134    output  \n",
       "0    -1     0     0    -1  2.516485  \n",
       "1    -1    -1     1     0  1.640909  \n",
       "2    -1    -1     1     0  0.416348  \n",
       "3    -1    -1     1     0  1.338558  \n",
       "4    -1     1     1     0  1.729517  \n",
       "\n",
       "[5 rows x 1137 columns]"
      ]
     },
     "execution_count": 6,
     "metadata": {},
     "output_type": "execute_result"
    }
   ],
   "source": [
    "raw_data = pd.read_csv(\"corn_data.csv\")\n",
    "raw_data.head()"
   ]
  },
  {
   "cell_type": "code",
   "execution_count": 7,
   "metadata": {},
   "outputs": [
    {
     "name": "stdout",
     "output_type": "stream",
     "text": [
      "X shape: (264, 1135)\n",
      "y shape: (264, 1)\n",
      "Min y: 0.0117532464005208\n",
      "Max y: 4.9270454514617015\n"
     ]
    }
   ],
   "source": [
    "X = raw_data.iloc[:,1:-1]\n",
    "y = raw_data.iloc[:,-1:]\n",
    "print(\"X shape:\",X.shape)\n",
    "print(\"y shape:\",y.shape)\n",
    "print(\"Min y:\",min(np.array(y))[0])\n",
    "print(\"Max y:\",max(np.array(y))[0])"
   ]
  },
  {
   "cell_type": "markdown",
   "metadata": {},
   "source": [
    "## 0.0.2 Visualize our data\n",
    "\n",
    "We would like to visualize how the values of the output are distributed, using a histogram. \n",
    "\n",
    "Since our output values range from 0.01 to 4.92, it makes sense to display our output in bins from [0-1] to [4-5]"
   ]
  },
  {
   "cell_type": "code",
   "execution_count": 8,
   "metadata": {},
   "outputs": [
    {
     "data": {
      "text/plain": [
       "Text(0.5, 1.0, 'Output Distribution')"
      ]
     },
     "execution_count": 8,
     "metadata": {},
     "output_type": "execute_result"
    },
    {
     "data": {
      "image/png": "[encoded data removed]",
      "text/plain": [
       "<Figure size 432x288 with 1 Axes>"
      ]
     },
     "metadata": {
      "needs_background": "light"
     },
     "output_type": "display_data"
    }
   ],
   "source": [
    "sns.distplot(y,bins=[0,1,2,3,4,5],kde=False)\n",
    "plt.title(\"Output Distribution\")\n"
   ]
  },
  {
   "cell_type": "markdown",
   "metadata": {},
   "source": [
    "Remark: Most of our values falls within [1-3]. The highest yields [4-5], unsurprisingly, are the fewest"
   ]
  },
  {
   "cell_type": "markdown",
   "metadata": {},
   "source": [
    "## 0.0.3 Construct a Scoring system"
   ]
  },
  {
   "cell_type": "markdown",
   "metadata": {},
   "source": [
    "### i- Scorer class\n",
    "First construct a scoring class. This will keep track of all our scores."
   ]
  },
  {
   "cell_type": "code",
   "execution_count": 9,
   "metadata": {},
   "outputs": [],
   "source": [
    "class ScoreSheet:\n",
    "    def __init__(self,title):\n",
    "        self.title=title\n",
    "        self.sheet = pd.DataFrame({})\n",
    "        \n",
    "    def add_score(self,name,list):\n",
    "        self.sheet.loc[name]=list\n",
    "        \n",
    "    def add_score(self,series):\n",
    "        self.sheet = self.sheet.append(series)\n",
    "        \n",
    "    def get_pred_labels(self):\n",
    "        return list(self.sheet.columns)\n",
    "    \n",
    "    def get_test_labels(self):\n",
    "        return list(self.sheet.index)\n",
    "    \n",
    "    def get_test(self,name):\n",
    "        return self.sheet.loc[name]\n",
    "    \n",
    "    def get_predictor(self,name):\n",
    "        return list(self.sheet[name])\n",
    "    \n",
    "    def get_sheet(self):\n",
    "        return self.sheet\n",
    "    \n",
    "    "
   ]
  },
  {
   "cell_type": "markdown",
   "metadata": {},
   "source": [
    "### ii - Drawer class\n",
    "\n",
    "This class will help with the plotting of graphs in the ScoreSheet and Test\n",
    "\n",
    "- v1.0"
   ]
  },
  {
   "cell_type": "code",
   "execution_count": 10,
   "metadata": {},
   "outputs": [],
   "source": [
    "class Draw:\n",
    "    \n",
    "    def histogram(sr,hist,kde):\n",
    "        sns.distplot(sr,bins=[0,1,2,3,4,5],hist=hist,kde=kde)\n",
    "    \n",
    "    def heatmap(ss):\n",
    "        ax=sns.heatmap(ss.get_sheet(),annot=True, fmt=\".3f\",cmap=\"coolwarm\", center = -0.1 ,\n",
    "                       square = True,linewidths=.1,vmin=-1,vmax=1,cbar=False)\n",
    "        plt.title(ss.title)\n",
    "    \n",
    "    def lineplot(ss,cols):\n",
    "        ax = plt.subplot()\n",
    "        for name in cols:\n",
    "            x = ss.get_test_labels()\n",
    "            y = ss.get_predictor(name)\n",
    "            plt.plot(x,y)\n",
    "            ax.set_ylim([0.0,1.0])\n",
    "        ax.legend()\n",
    "        plt.show()\n",
    "    \n",
    "    def scatterplot(train_series,test_series):\n",
    "#         plt.subplot()\n",
    "        plt.xlabel(\"Actual values\")\n",
    "        plt.ylabel(\"Predicted values\")\n",
    "        y_train,y_train_predicted = train_series[\"y_train\"],train_series[\"y_train_predicted\"]\n",
    "        y_test, y_test_predicted  = test_series[\"y_test\"], test_series[\"y_test_predicted\"]\n",
    "        plt.plot(y_train, y_train_predicted, 'x', color='red')\n",
    "        plt.plot(y_test,y_test_predicted, 'o', color='black')\n",
    "        plt.plot(np.linspace(0,5,10),np.linspace(0,5,10),'b--')\n",
    "        plt.show()"
   ]
  },
  {
   "cell_type": "markdown",
   "metadata": {},
   "source": [
    "### iii - Test class"
   ]
  },
  {
   "cell_type": "code",
   "execution_count": 39,
   "metadata": {},
   "outputs": [],
   "source": [
    "from random import random\n",
    "from sklearn.metrics import r2_score\n",
    "from sklearn.model_selection import train_test_split  \n",
    "\n",
    "\n",
    "class Test:\n",
    "    def __init__(self,X,y):\n",
    "        self.settings = Settings(X,y)\n",
    "        \n",
    "    def get_settings(self):\n",
    "        return self.settings\n",
    "    \n",
    "    def set_settings(self,settings):\n",
    "        self.settings = settings\n",
    "  \n",
    "    \n",
    "    def train_test(self,clf_name):\n",
    "        setg = self.get_settings()\n",
    "        clf = setg.predictor(clf_name)\n",
    "        if setg.bias > 0:\n",
    "            X_train, X_test, y_train, y_test = setg.biased_split()\n",
    "        else:\n",
    "            X_train, X_test, y_train, y_test = train_test_split(setg.X,setg.y,test_size=setg.split,stratify=setg.strf)\n",
    "        clf.fit(X_train,y_train)\n",
    "        y_train_predicted = clf.predict(X_train)\n",
    "        y_test_predicted  = clf.predict(X_test)\n",
    "        return pd.Series([X_train, y_train, y_train_predicted],index=[\"X_train\", \"y_train\", \"y_train_predicted\"],name=\"Training Series\"\n",
    "                        ),pd.Series([X_test, y_test, y_test_predicted],index=[\"X_test\", \"y_test\", \"y_test_predicted\"],name=\"Testing Series\")\n",
    "        \n",
    "    # Determine the R2 Score for a list of predictors\n",
    "    def R2(self,predictors):\n",
    "        train_r2 = []\n",
    "        test_r2 = []\n",
    "        for clf_name in predictors:\n",
    "            train_sr, test_sr = self.train_test(clf_name)\n",
    "            \n",
    "            y_train,y_train_predicted = train_sr[\"y_train\"],train_sr[\"y_train_predicted\"]\n",
    "            y_test, y_test_predicted  = test_sr[\"y_test\"], test_sr[\"y_test_predicted\"]\n",
    "            \n",
    "            train_r2.append(r2_score(y_train,y_train_predicted))\n",
    "            test_r2.append(r2_score(y_test,y_test_predicted))\n",
    "        return pd.Series(train_r2,index=predictors,name=\"Train R2\"),pd.Series(test_r2,index=predictors,name=\"Test R2\")\n",
    "    \n",
    "    def R2_avg(self,predictors,iterations):\n",
    "        all_train_r2 = []\n",
    "        all_test_r2 = []\n",
    "        for i in range(iterations):\n",
    "            train_r2,test_r2 = self.R2(predictors)\n",
    "            all_train_r2.append(list(train_r2))\n",
    "            all_test_r2.append(list(test_r2))\n",
    "        mean_train_r2 = [np.mean(i) for i in np.array(all_train_r2).T]\n",
    "        mean_test_r2 = [np.mean(i) for i in np.array(all_test_r2).T]\n",
    "        return pd.Series(mean_train_r2,index=predictors,name=\"Train R2\"),pd.Series(mean_test_r2,index=predictors,name=\"Test R2\")\n",
    "    \n",
    "    "
   ]
  },
  {
   "cell_type": "markdown",
   "metadata": {},
   "source": [
    "### iv - Settings class\n",
    "\n",
    "Keep track of all the settings and predictors including split_size, stratification option, grid search, etc..."
   ]
  },
  {
   "cell_type": "code",
   "execution_count": 51,
   "metadata": {},
   "outputs": [],
   "source": [
    "from sklearn.svm import SVR\n",
    "from sklearn.ensemble import RandomForestRegressor\n",
    "from xgboost import XGBRegressor\n",
    "from sklearn.ensemble import AdaBoostRegressor\n",
    "\n",
    "class Settings:\n",
    "    def __init__(self,X,y):\n",
    "        self.X = X\n",
    "        self.y = y\n",
    "        self.strf = None\n",
    "        self.split = 0.2\n",
    "        self.bias = 0\n",
    "        self.bias_threshold = 3\n",
    "        \n",
    "    def predictor(self,clf_name):\n",
    "        pred = {\"SVR\":SVR(),'RFR':RandomForestRegressor(),\n",
    "               \"XGB\":XGBRegressor(),\"ADA\":AdaBoostRegressor()}\n",
    "        return pred[clf_name]\n",
    "    \n",
    "    def get_stratify(self):\n",
    "        return self.strf\n",
    "    \n",
    "    def set_stratify(self,bool):\n",
    "        if bool:\n",
    "            self.strf = np.array(self.y,dtype=\"int\")\n",
    "        else:\n",
    "            self.strf = None\n",
    "            \n",
    "    def get_y_stratified(self,y):\n",
    "        return np.array(y,dtype=\"int\")\n",
    "    \n",
    "    def set(self,strf,split,bias,bias_threshold):\n",
    "        self.strf = strf\n",
    "        self.split = split\n",
    "        self.bias = bias\n",
    "        self.bias_threshold = bias_threshold\n",
    "        return self.strf,self.split,self.bias,self.bias_threshold\n",
    "\n",
    "    \n",
    "    def set_default(self):\n",
    "        self.strf = None\n",
    "        self.split = 0.2\n",
    "        self.bias = 0\n",
    "        self.bias_threshold = 3\n",
    "        return self.strf,self.split,self.bias,self.bias_threshold\n",
    "    \n",
    "    def set_split(self,split):\n",
    "        self.split = split\n",
    "        \n",
    "    def get_split(self):\n",
    "        return self.split\n",
    "    \n",
    "    def set_bias(self,bias,threshold):\n",
    "        self.bias = bias\n",
    "        self.bias_threshold = threshold\n",
    "            \n",
    "    def biased_split(self):\n",
    "        filt1 = raw_data[\"output\"] >= self.bias_threshold #Filter out outputs that are higher than threshold\n",
    "        filt2 = raw_data[\"output\"] < self.bias_threshold\n",
    "        df1 = raw_data[filt1]\n",
    "        df2 = raw_data[filt2]\n",
    "\n",
    "        X_021a = df1.iloc[:,1:-1]\n",
    "        y_021a = df1.iloc[:,-1:]\n",
    "        X_021b = df2.iloc[:,1:-1]\n",
    "        y_021b = df2.iloc[:,-1:]\n",
    "\n",
    "        X_train_a, X_test_a, y_train_a, y_test_a = train_test_split(X_021a,y_021a,test_size=self.bias,\n",
    "                                                        stratify=np.array(y_021a,dtype=\"int\"))\n",
    "        X_train_b, X_test_b, y_train_b, y_test_b = train_test_split(X_021b,y_021b,test_size=self.split,\n",
    "                                                        stratify=np.array(y_021b,dtype=\"int\"))\n",
    "\n",
    "        y_train = y_train_a.append(y_train_b)\n",
    "        X_train = X_train_a.append(X_train_b)\n",
    "        y_test = y_test_a.append(y_test_b)\n",
    "        X_test = X_test_a.append(X_test_b)\n",
    "\n",
    "        return X_train, X_test, y_train, y_test\n",
    "    \n",
    "    def print_settings(self):\n",
    "        print(self.split,\n",
    "            self.bias,\n",
    "            self.bias_threshold)"
   ]
  },
  {
   "cell_type": "markdown",
   "metadata": {},
   "source": [
    "## 0.1.0 Raw R2 Score"
   ]
  },
  {
   "cell_type": "code",
   "execution_count": 53,
   "metadata": {},
   "outputs": [],
   "source": [
    "test_01 = Test(X,y)\n",
    "test_01.settings.set_default()\n",
    "train_sr,test_sr = test_01.R2([\"ADA\",\"RFR\",\"SVR\",\"XGB\"])"
   ]
  },
  {
   "cell_type": "code",
   "execution_count": 54,
   "metadata": {},
   "outputs": [
    {
     "name": "stdout",
     "output_type": "stream",
     "text": [
      "Raw R2 Score\n"
     ]
    },
    {
     "data": {
      "text/html": [
       "<div>\n",
       "<style scoped>\n",
       "    .dataframe tbody tr th:only-of-type {\n",
       "        vertical-align: middle;\n",
       "    }\n",
       "\n",
       "    .dataframe tbody tr th {\n",
       "        vertical-align: top;\n",
       "    }\n",
       "\n",
       "    .dataframe thead th {\n",
       "        text-align: right;\n",
       "    }\n",
       "</style>\n",
       "<table border=\"1\" class=\"dataframe\">\n",
       "  <thead>\n",
       "    <tr style=\"text-align: right;\">\n",
       "      <th></th>\n",
       "      <th>ADA</th>\n",
       "      <th>RFR</th>\n",
       "      <th>SVR</th>\n",
       "      <th>XGB</th>\n",
       "    </tr>\n",
       "  </thead>\n",
       "  <tbody>\n",
       "    <tr>\n",
       "      <th>Train R2</th>\n",
       "      <td>0.757571</td>\n",
       "      <td>0.819208</td>\n",
       "      <td>0.753601</td>\n",
       "      <td>1.000000</td>\n",
       "    </tr>\n",
       "    <tr>\n",
       "      <th>Test R2</th>\n",
       "      <td>0.107962</td>\n",
       "      <td>0.133750</td>\n",
       "      <td>0.005037</td>\n",
       "      <td>-0.265641</td>\n",
       "    </tr>\n",
       "  </tbody>\n",
       "</table>\n",
       "</div>"
      ],
      "text/plain": [
       "               ADA       RFR       SVR       XGB\n",
       "Train R2  0.757571  0.819208  0.753601  1.000000\n",
       "Test R2   0.107962  0.133750  0.005037 -0.265641"
      ]
     },
     "execution_count": 54,
     "metadata": {},
     "output_type": "execute_result"
    }
   ],
   "source": [
    "ss = ScoreSheet(\"Raw R2 Score\")\n",
    "ss.add_score(train_sr)\n",
    "ss.add_score(test_sr)\n",
    "print(ss.title)\n",
    "ss.get_sheet().head()"
   ]
  },
  {
   "cell_type": "code",
   "execution_count": 55,
   "metadata": {},
   "outputs": [
    {
     "name": "stdout",
     "output_type": "stream",
     "text": [
      "Average Raw R2\n"
     ]
    },
    {
     "data": {
      "text/html": [
       "<div>\n",
       "<style scoped>\n",
       "    .dataframe tbody tr th:only-of-type {\n",
       "        vertical-align: middle;\n",
       "    }\n",
       "\n",
       "    .dataframe tbody tr th {\n",
       "        vertical-align: top;\n",
       "    }\n",
       "\n",
       "    .dataframe thead th {\n",
       "        text-align: right;\n",
       "    }\n",
       "</style>\n",
       "<table border=\"1\" class=\"dataframe\">\n",
       "  <thead>\n",
       "    <tr style=\"text-align: right;\">\n",
       "      <th></th>\n",
       "      <th>ADA</th>\n",
       "      <th>RFR</th>\n",
       "      <th>SVR</th>\n",
       "      <th>XGB</th>\n",
       "    </tr>\n",
       "  </thead>\n",
       "  <tbody>\n",
       "    <tr>\n",
       "      <th>Train R2</th>\n",
       "      <td>0.750663</td>\n",
       "      <td>0.820352</td>\n",
       "      <td>0.739899</td>\n",
       "      <td>1.000000</td>\n",
       "    </tr>\n",
       "    <tr>\n",
       "      <th>Test R2</th>\n",
       "      <td>0.091209</td>\n",
       "      <td>-0.003056</td>\n",
       "      <td>0.127827</td>\n",
       "      <td>-0.080183</td>\n",
       "    </tr>\n",
       "  </tbody>\n",
       "</table>\n",
       "</div>"
      ],
      "text/plain": [
       "               ADA       RFR       SVR       XGB\n",
       "Train R2  0.750663  0.820352  0.739899  1.000000\n",
       "Test R2   0.091209 -0.003056  0.127827 -0.080183"
      ]
     },
     "execution_count": 55,
     "metadata": {},
     "output_type": "execute_result"
    }
   ],
   "source": [
    "test = Test(X,y)\n",
    "train_avg,test_avg = test.R2_avg([\"ADA\",\"RFR\",\"SVR\",\"XGB\"],iterations=5)\n",
    "\n",
    "ss = ScoreSheet(\"Average Raw R2\")\n",
    "ss.add_score(train_avg)\n",
    "ss.add_score(test_avg)\n",
    "print(ss.title)\n",
    "ss.get_sheet().head()"
   ]
  },
  {
   "cell_type": "code",
   "execution_count": 56,
   "metadata": {},
   "outputs": [
    {
     "data": {
      "image/png": "[encoded data removed]",
      "text/plain": [
       "<Figure size 432x288 with 1 Axes>"
      ]
     },
     "metadata": {
      "needs_background": "light"
     },
     "output_type": "display_data"
    }
   ],
   "source": [
    "Draw.heatmap(ss)"
   ]
  },
  {
   "cell_type": "code",
   "execution_count": 57,
   "metadata": {},
   "outputs": [
    {
     "data": {
      "text/plain": [
       "0"
      ]
     },
     "execution_count": 57,
     "metadata": {},
     "output_type": "execute_result"
    }
   ],
   "source": [
    "test.settings.bias"
   ]
  },
  {
   "cell_type": "markdown",
   "metadata": {},
   "source": [
    "## 0.2.0 Stratify our Data"
   ]
  },
  {
   "cell_type": "code",
   "execution_count": 63,
   "metadata": {},
   "outputs": [
    {
     "data": {
      "image/png": "[encoded data removed]",
      "text/plain": [
       "<Figure size 432x288 with 1 Axes>"
      ]
     },
     "metadata": {
      "needs_background": "light"
     },
     "output_type": "display_data"
    },
    {
     "name": "stdout",
     "output_type": "stream",
     "text": [
      "train_r2 0.7230832236445017\n",
      "test_r2 0.20249717552578628\n"
     ]
    },
    {
     "data": {
      "image/png": "[encoded data removed]",
      "text/plain": [
       "<Figure size 432x288 with 1 Axes>"
      ]
     },
     "metadata": {
      "needs_background": "light"
     },
     "output_type": "display_data"
    }
   ],
   "source": [
    "test.settings.set_default()\n",
    "\n",
    "train_sr,test_sr = test.train_test(\"SVR\")\n",
    "Draw.scatterplot(train_sr,test_sr)\n",
    "\n",
    "y_train,y_train_predicted = train_sr[\"y_train\"],train_sr[\"y_train_predicted\"]\n",
    "y_test, y_test_predicted  = test_sr[\"y_test\"], test_sr[\"y_test_predicted\"]\n",
    "\n",
    "print(\"train_r2\",r2_score(y_train,y_train_predicted))\n",
    "print(\"test_r2\",r2_score(y_test,y_test_predicted))\n",
    "\n",
    "Draw.histogram(train_sr[\"y_train\"],hist=True,kde=True)\n",
    "Draw.histogram(test_sr[\"y_test\"],hist=True,kde=True)"
   ]
  },
  {
   "cell_type": "code",
   "execution_count": 64,
   "metadata": {},
   "outputs": [
    {
     "name": "stdout",
     "output_type": "stream",
     "text": [
      "0.2 0 3\n"
     ]
    }
   ],
   "source": [
    "test.settings.print_settings()"
   ]
  },
  {
   "cell_type": "markdown",
   "metadata": {},
   "source": [
    "What does stratification do to our data?"
   ]
  },
  {
   "cell_type": "code",
   "execution_count": 65,
   "metadata": {},
   "outputs": [
    {
     "data": {
      "text/html": [
       "<div>\n",
       "<style scoped>\n",
       "    .dataframe tbody tr th:only-of-type {\n",
       "        vertical-align: middle;\n",
       "    }\n",
       "\n",
       "    .dataframe tbody tr th {\n",
       "        vertical-align: top;\n",
       "    }\n",
       "\n",
       "    .dataframe thead th {\n",
       "        text-align: right;\n",
       "    }\n",
       "</style>\n",
       "<table border=\"1\" class=\"dataframe\">\n",
       "  <thead>\n",
       "    <tr style=\"text-align: right;\">\n",
       "      <th></th>\n",
       "      <th>Original data</th>\n",
       "      <th>Stratified data</th>\n",
       "    </tr>\n",
       "  </thead>\n",
       "  <tbody>\n",
       "    <tr>\n",
       "      <th>0</th>\n",
       "      <td>2.516485</td>\n",
       "      <td>2</td>\n",
       "    </tr>\n",
       "    <tr>\n",
       "      <th>1</th>\n",
       "      <td>1.640909</td>\n",
       "      <td>1</td>\n",
       "    </tr>\n",
       "    <tr>\n",
       "      <th>2</th>\n",
       "      <td>0.416348</td>\n",
       "      <td>0</td>\n",
       "    </tr>\n",
       "    <tr>\n",
       "      <th>3</th>\n",
       "      <td>1.338558</td>\n",
       "      <td>1</td>\n",
       "    </tr>\n",
       "    <tr>\n",
       "      <th>4</th>\n",
       "      <td>1.729517</td>\n",
       "      <td>1</td>\n",
       "    </tr>\n",
       "    <tr>\n",
       "      <th>5</th>\n",
       "      <td>2.704476</td>\n",
       "      <td>2</td>\n",
       "    </tr>\n",
       "    <tr>\n",
       "      <th>6</th>\n",
       "      <td>1.971622</td>\n",
       "      <td>1</td>\n",
       "    </tr>\n",
       "    <tr>\n",
       "      <th>7</th>\n",
       "      <td>1.843582</td>\n",
       "      <td>1</td>\n",
       "    </tr>\n",
       "    <tr>\n",
       "      <th>8</th>\n",
       "      <td>2.082107</td>\n",
       "      <td>2</td>\n",
       "    </tr>\n",
       "    <tr>\n",
       "      <th>9</th>\n",
       "      <td>2.898305</td>\n",
       "      <td>2</td>\n",
       "    </tr>\n",
       "  </tbody>\n",
       "</table>\n",
       "</div>"
      ],
      "text/plain": [
       "   Original data  Stratified data\n",
       "0       2.516485                2\n",
       "1       1.640909                1\n",
       "2       0.416348                0\n",
       "3       1.338558                1\n",
       "4       1.729517                1\n",
       "5       2.704476                2\n",
       "6       1.971622                1\n",
       "7       1.843582                1\n",
       "8       2.082107                2\n",
       "9       2.898305                2"
      ]
     },
     "execution_count": 65,
     "metadata": {},
     "output_type": "execute_result"
    }
   ],
   "source": [
    "data = {\"Original data\":raw_data[\"output\"],\"Stratified data\":list(test.settings.get_y_stratified(test.settings.y).ravel())}\n",
    "df1 = pd.DataFrame(data = data)\n",
    "df1.head(10)"
   ]
  },
  {
   "cell_type": "code",
   "execution_count": 66,
   "metadata": {},
   "outputs": [
    {
     "data": {
      "image/png": "[encoded data removed]",
      "text/plain": [
       "<Figure size 432x288 with 1 Axes>"
      ]
     },
     "metadata": {
      "needs_background": "light"
     },
     "output_type": "display_data"
    },
    {
     "name": "stdout",
     "output_type": "stream",
     "text": [
      "train_r2 0.7226337341219942\n",
      "test_r2 0.22850717424162115\n"
     ]
    },
    {
     "data": {
      "image/png": "[encoded data removed]",
      "text/plain": [
       "<Figure size 432x288 with 1 Axes>"
      ]
     },
     "metadata": {
      "needs_background": "light"
     },
     "output_type": "display_data"
    }
   ],
   "source": [
    "test.settings.set_stratify(True)\n",
    "train_sr,test_sr = test.train_test(\"SVR\")\n",
    "Draw.scatterplot(train_sr,test_sr)\n",
    "y_train,y_train_predicted = train_sr[\"y_train\"],train_sr[\"y_train_predicted\"]\n",
    "y_test, y_test_predicted  = test_sr[\"y_test\"], test_sr[\"y_test_predicted\"]\n",
    "\n",
    "print(\"train_r2\",r2_score(y_train,y_train_predicted))\n",
    "print(\"test_r2\",r2_score(y_test,y_test_predicted))\n",
    "\n",
    "Draw.histogram(train_sr[\"y_train\"],hist=True,kde=True)\n",
    "Draw.histogram(test_sr[\"y_test\"],hist=True,kde=True)"
   ]
  },
  {
   "cell_type": "markdown",
   "metadata": {},
   "source": [
    "We want to do better. Let's make bins [3-4] and [4-5] more significant in the training process"
   ]
  },
  {
   "cell_type": "markdown",
   "metadata": {},
   "source": [
    "## 0.2.1 Biased Split\n",
    "Manually increase bias towards higher yield"
   ]
  },
  {
   "cell_type": "code",
   "execution_count": 67,
   "metadata": {},
   "outputs": [
    {
     "name": "stdout",
     "output_type": "stream",
     "text": [
      "0.2 0.5 3\n"
     ]
    },
    {
     "data": {
      "image/png": "[encoded data removed]",
      "text/plain": [
       "<Figure size 432x288 with 1 Axes>"
      ]
     },
     "metadata": {
      "needs_background": "light"
     },
     "output_type": "display_data"
    }
   ],
   "source": [
    "test.settings.set_bias(bias=0.5,threshold=3)\n",
    "test.settings.print_settings()\n",
    "\n",
    "X_train, X_test, y_train, y_test = test.settings.biased_split()\n",
    "plt.title(\"Distribution when split is biased\")\n",
    "Draw.histogram(y_train,hist=True,kde=True)\n",
    "Draw.histogram(y_test,hist=True,kde=True)"
   ]
  },
  {
   "cell_type": "code",
   "execution_count": 68,
   "metadata": {},
   "outputs": [
    {
     "data": {
      "image/png": "[encoded data removed]",
      "text/plain": [
       "<Figure size 432x288 with 1 Axes>"
      ]
     },
     "metadata": {
      "needs_background": "light"
     },
     "output_type": "display_data"
    },
    {
     "name": "stdout",
     "output_type": "stream",
     "text": [
      "train_r2 0.7298505986728459\n",
      "test_r2 0.0005184989265186735\n"
     ]
    },
    {
     "data": {
      "image/png": "[encoded data removed]",
      "text/plain": [
       "<Figure size 432x288 with 1 Axes>"
      ]
     },
     "metadata": {
      "needs_background": "light"
     },
     "output_type": "display_data"
    }
   ],
   "source": [
    "train_sr,test_sr = test.train_test(\"SVR\")\n",
    "Draw.scatterplot(train_sr,test_sr)\n",
    "\n",
    "y_train,y_train_predicted = train_sr[\"y_train\"],train_sr[\"y_train_predicted\"]\n",
    "y_test, y_test_predicted  = test_sr[\"y_test\"], test_sr[\"y_test_predicted\"]\n",
    "print(\"train_r2\",r2_score(y_train,y_train_predicted))\n",
    "print(\"test_r2\",r2_score(y_test,y_test_predicted))\n",
    "\n",
    "# fig1, f1_axes = plt.subplots(ncols=2, nrows=1, constrained_layout=False)\n",
    "# ax1 = plt.subplot(sharex = ax1)\n",
    "# Draw.scatterplot(train_sr,test_sr)\n",
    "# ax1.set_aspect('equal')\n",
    "# plt.subplot(sharex = ax1)\n",
    "plt.title(\"Distribution\")\n",
    "Draw.histogram(train_sr[\"y_train\"],hist=True,kde=True)\n",
    "Draw.histogram(test_sr[\"y_test\"],hist=True,kde=True)\n",
    "# plt.width(0.3)\n",
    "\n",
    "# plt.tight_layout()"
   ]
  },
  {
   "cell_type": "code",
   "execution_count": 59,
   "metadata": {},
   "outputs": [
    {
     "name": "stdout",
     "output_type": "stream",
     "text": [
      "0.2 0.5 3\n",
      "Average Biased Split R2\n"
     ]
    },
    {
     "data": {
      "image/png": "[encoded data removed]",
      "text/plain": [
       "<Figure size 432x288 with 1 Axes>"
      ]
     },
     "metadata": {
      "needs_background": "light"
     },
     "output_type": "display_data"
    }
   ],
   "source": [
    "test.settings.print_settings()\n",
    "train_avg,test_avg = test.R2_avg([\"ADA\",\"RFR\",\"SVR\",\"XGB\"],iterations=5)\n",
    "ss = ScoreSheet(\"Average Biased Split R2\")\n",
    "ss.add_score(train_avg)\n",
    "ss.add_score(test_avg)\n",
    "print(ss.title)\n",
    "ss.get_sheet().head()\n",
    "\n",
    "Draw.heatmap(ss)"
   ]
  },
  {
   "cell_type": "code",
   "execution_count": null,
   "metadata": {},
   "outputs": [],
   "source": []
  },
  {
   "cell_type": "code",
   "execution_count": null,
   "metadata": {},
   "outputs": [],
   "source": []
  }
 ],
 "metadata": {
  "kernelspec": {
   "display_name": "Python 3",
   "language": "python",
   "name": "python3"
  },
  "language_info": {
   "codemirror_mode": {
    "name": "ipython",
    "version": 3
   },
   "file_extension": ".py",
   "mimetype": "text/x-python",
   "name": "python",
   "nbconvert_exporter": "python",
   "pygments_lexer": "ipython3",
   "version": "3.7.3"
  }
 },
 "nbformat": 4,
 "nbformat_minor": 2
}
