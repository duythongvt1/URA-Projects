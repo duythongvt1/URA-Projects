{
 "cells": [
  {
   "cell_type": "code",
   "execution_count": 1,
   "metadata": {},
   "outputs": [],
   "source": [
    "import numpy as np\n",
    "import pandas as pd\n",
    "import matplotlib.pyplot as plt\n",
    "%matplotlib notebook\n",
    "%matplotlib notebook"
   ]
  },
  {
   "cell_type": "code",
   "execution_count": 2,
   "metadata": {},
   "outputs": [],
   "source": [
    "import warnings\n",
    "from sklearn.exceptions import DataConversionWarning\n",
    "# import warnings filter\n",
    "from warnings import simplefilter\n",
    "simplefilter(action='ignore', category=FutureWarning)\n",
    "warnings.filterwarnings(action='ignore', category=DataConversionWarning)"
   ]
  },
  {
   "cell_type": "code",
   "execution_count": 3,
   "metadata": {},
   "outputs": [
    {
     "data": {
      "text/html": [
       "<div>\n",
       "<style scoped>\n",
       "    .dataframe tbody tr th:only-of-type {\n",
       "        vertical-align: middle;\n",
       "    }\n",
       "\n",
       "    .dataframe tbody tr th {\n",
       "        vertical-align: top;\n",
       "    }\n",
       "\n",
       "    .dataframe thead th {\n",
       "        text-align: right;\n",
       "    }\n",
       "</style>\n",
       "<table border=\"1\" class=\"dataframe\">\n",
       "  <thead>\n",
       "    <tr style=\"text-align: right;\">\n",
       "      <th></th>\n",
       "      <th>Unnamed: 0</th>\n",
       "      <th>0</th>\n",
       "      <th>1</th>\n",
       "      <th>2</th>\n",
       "      <th>3</th>\n",
       "      <th>4</th>\n",
       "      <th>5</th>\n",
       "      <th>6</th>\n",
       "      <th>7</th>\n",
       "      <th>8</th>\n",
       "      <th>...</th>\n",
       "      <th>1126</th>\n",
       "      <th>1127</th>\n",
       "      <th>1128</th>\n",
       "      <th>1129</th>\n",
       "      <th>1130</th>\n",
       "      <th>1131</th>\n",
       "      <th>1132</th>\n",
       "      <th>1133</th>\n",
       "      <th>1134</th>\n",
       "      <th>output</th>\n",
       "    </tr>\n",
       "  </thead>\n",
       "  <tbody>\n",
       "    <tr>\n",
       "      <th>0</th>\n",
       "      <td>0</td>\n",
       "      <td>1</td>\n",
       "      <td>-1</td>\n",
       "      <td>1</td>\n",
       "      <td>1</td>\n",
       "      <td>1</td>\n",
       "      <td>0</td>\n",
       "      <td>1</td>\n",
       "      <td>-1</td>\n",
       "      <td>1</td>\n",
       "      <td>...</td>\n",
       "      <td>-1</td>\n",
       "      <td>1</td>\n",
       "      <td>-1</td>\n",
       "      <td>1</td>\n",
       "      <td>1</td>\n",
       "      <td>-1</td>\n",
       "      <td>0</td>\n",
       "      <td>0</td>\n",
       "      <td>-1</td>\n",
       "      <td>2.516485</td>\n",
       "    </tr>\n",
       "    <tr>\n",
       "      <th>1</th>\n",
       "      <td>1</td>\n",
       "      <td>1</td>\n",
       "      <td>-1</td>\n",
       "      <td>1</td>\n",
       "      <td>1</td>\n",
       "      <td>-1</td>\n",
       "      <td>-1</td>\n",
       "      <td>1</td>\n",
       "      <td>-1</td>\n",
       "      <td>1</td>\n",
       "      <td>...</td>\n",
       "      <td>-1</td>\n",
       "      <td>1</td>\n",
       "      <td>-1</td>\n",
       "      <td>0</td>\n",
       "      <td>1</td>\n",
       "      <td>-1</td>\n",
       "      <td>-1</td>\n",
       "      <td>1</td>\n",
       "      <td>0</td>\n",
       "      <td>1.640909</td>\n",
       "    </tr>\n",
       "    <tr>\n",
       "      <th>2</th>\n",
       "      <td>2</td>\n",
       "      <td>0</td>\n",
       "      <td>1</td>\n",
       "      <td>1</td>\n",
       "      <td>-1</td>\n",
       "      <td>-1</td>\n",
       "      <td>-1</td>\n",
       "      <td>1</td>\n",
       "      <td>-1</td>\n",
       "      <td>-1</td>\n",
       "      <td>...</td>\n",
       "      <td>-1</td>\n",
       "      <td>1</td>\n",
       "      <td>-1</td>\n",
       "      <td>1</td>\n",
       "      <td>1</td>\n",
       "      <td>-1</td>\n",
       "      <td>-1</td>\n",
       "      <td>1</td>\n",
       "      <td>0</td>\n",
       "      <td>0.416348</td>\n",
       "    </tr>\n",
       "    <tr>\n",
       "      <th>3</th>\n",
       "      <td>3</td>\n",
       "      <td>1</td>\n",
       "      <td>1</td>\n",
       "      <td>1</td>\n",
       "      <td>0</td>\n",
       "      <td>-1</td>\n",
       "      <td>1</td>\n",
       "      <td>1</td>\n",
       "      <td>-1</td>\n",
       "      <td>1</td>\n",
       "      <td>...</td>\n",
       "      <td>-1</td>\n",
       "      <td>1</td>\n",
       "      <td>-1</td>\n",
       "      <td>-1</td>\n",
       "      <td>1</td>\n",
       "      <td>-1</td>\n",
       "      <td>-1</td>\n",
       "      <td>1</td>\n",
       "      <td>0</td>\n",
       "      <td>1.338558</td>\n",
       "    </tr>\n",
       "    <tr>\n",
       "      <th>4</th>\n",
       "      <td>4</td>\n",
       "      <td>1</td>\n",
       "      <td>1</td>\n",
       "      <td>1</td>\n",
       "      <td>0</td>\n",
       "      <td>-1</td>\n",
       "      <td>-1</td>\n",
       "      <td>1</td>\n",
       "      <td>0</td>\n",
       "      <td>1</td>\n",
       "      <td>...</td>\n",
       "      <td>-1</td>\n",
       "      <td>1</td>\n",
       "      <td>-1</td>\n",
       "      <td>0</td>\n",
       "      <td>-1</td>\n",
       "      <td>-1</td>\n",
       "      <td>1</td>\n",
       "      <td>1</td>\n",
       "      <td>0</td>\n",
       "      <td>1.729517</td>\n",
       "    </tr>\n",
       "  </tbody>\n",
       "</table>\n",
       "<p>5 rows × 1137 columns</p>\n",
       "</div>"
      ],
      "text/plain": [
       "   Unnamed: 0  0  1  2  3  4  5  6  7  8  ...  1126  1127  1128  1129  1130  \\\n",
       "0           0  1 -1  1  1  1  0  1 -1  1  ...    -1     1    -1     1     1   \n",
       "1           1  1 -1  1  1 -1 -1  1 -1  1  ...    -1     1    -1     0     1   \n",
       "2           2  0  1  1 -1 -1 -1  1 -1 -1  ...    -1     1    -1     1     1   \n",
       "3           3  1  1  1  0 -1  1  1 -1  1  ...    -1     1    -1    -1     1   \n",
       "4           4  1  1  1  0 -1 -1  1  0  1  ...    -1     1    -1     0    -1   \n",
       "\n",
       "   1131  1132  1133  1134    output  \n",
       "0    -1     0     0    -1  2.516485  \n",
       "1    -1    -1     1     0  1.640909  \n",
       "2    -1    -1     1     0  0.416348  \n",
       "3    -1    -1     1     0  1.338558  \n",
       "4    -1     1     1     0  1.729517  \n",
       "\n",
       "[5 rows x 1137 columns]"
      ]
     },
     "execution_count": 3,
     "metadata": {},
     "output_type": "execute_result"
    }
   ],
   "source": [
    "raw_data = pd.read_csv(\"corn_data.csv\")\n",
    "raw_data.head()"
   ]
  },
  {
   "cell_type": "code",
   "execution_count": 4,
   "metadata": {
    "scrolled": false
   },
   "outputs": [
    {
     "name": "stdout",
     "output_type": "stream",
     "text": [
      "min: 0.0117532464005208 max: 4.9270454514617015 Total: 264\n"
     ]
    }
   ],
   "source": [
    "X = raw_data.iloc[:,1:-1]\n",
    "y = raw_data.iloc[:,-1:]\n",
    "total_count = len(y)\n",
    "print(\"min:\",min(np.array(y))[0],\"max:\",max(np.array(y))[0],\"Total:\",total_count)\n"
   ]
  },
  {
   "cell_type": "markdown",
   "metadata": {},
   "source": [
    "### Visualize Our Data"
   ]
  },
  {
   "cell_type": "code",
   "execution_count": 5,
   "metadata": {},
   "outputs": [
    {
     "data": {
      "image/png": "[encoded data removed]",
      "text/plain": [
       "<Figure size 432x288 with 1 Axes>"
      ]
     },
     "metadata": {
      "needs_background": "light"
     },
     "output_type": "display_data"
    }
   ],
   "source": [
    "hist, bin_edges = np.histogram(y, bins=5, range=(0,5))\n",
    "fig = plt.figure()\n",
    "plt.bar( bin_edges[:-1],hist, width=.98,align=\"edge\")\n",
    "plt.title(\"Output Distribution\")\n",
    "plt.show()\n"
   ]
  },
  {
   "cell_type": "markdown",
   "metadata": {},
   "source": [
    "### Stratify the Data\n",
    "Added on May 27, 2020\n",
    "    \n",
    "    \n",
    "    "
   ]
  },
  {
   "cell_type": "markdown",
   "metadata": {},
   "source": [
    "#### Take this simple step to stratify our data..."
   ]
  },
  {
   "cell_type": "code",
   "execution_count": 6,
   "metadata": {
    "scrolled": true
   },
   "outputs": [
    {
     "data": {
      "text/plain": [
       "array([[2, 1, 0, 1, 1, 2, 1, 1, 2, 2, 2, 2, 3, 3, 2]])"
      ]
     },
     "execution_count": 6,
     "metadata": {},
     "output_type": "execute_result"
    }
   ],
   "source": [
    "y_stf = np.array(y,dtype=\"int\")\n",
    "y_stf[:15].T #print out the first 15 elements for visualization purposes"
   ]
  },
  {
   "cell_type": "code",
   "execution_count": 7,
   "metadata": {},
   "outputs": [
    {
     "data": {
      "image/png": "[encoded data removed]",
      "text/plain": [
       "<Figure size 432x288 with 1 Axes>"
      ]
     },
     "metadata": {
      "needs_background": "light"
     },
     "output_type": "display_data"
    },
    {
     "data": {
      "image/png": "[encoded data removed]",
      "text/plain": [
       "<Figure size 432x288 with 1 Axes>"
      ]
     },
     "metadata": {
      "needs_background": "light"
     },
     "output_type": "display_data"
    }
   ],
   "source": [
    "from sklearn.model_selection import train_test_split  \n",
    "\n",
    "split = 0.25\n",
    "#Without Stratification\n",
    "X_train, X_test, y_train, y_test = train_test_split(X,y,test_size=split,random_state=1)\n",
    "hist_tr, bin_edges_tr = np.histogram(y_train, bins=5, range=(0,5))\n",
    "hist_test, bin_edges_test = np.histogram(y_test, bins=5, range=(0,5))\n",
    "fig,ax = plt.subplots()\n",
    "ax.bar( bin_edges_test[:-1],hist_test, width=.98,align=\"edge\",color=\"orange\",label=\"Test data\")\n",
    "ax.bar( bin_edges_tr[:-1],hist_tr, width=.98,align=\"edge\",bottom=hist_test,label=\"Train data\")\n",
    "ax.set_title(\"Test Split without Stratification\")\n",
    "ax.legend()\n",
    "\n",
    "\n",
    "#With Stratification\n",
    "X_train, X_test, y_train, y_test = train_test_split(X,y,test_size=split,random_state=1,stratify = y_stf)\n",
    "hist_tr, bin_edges_tr = np.histogram(y_train, bins=5, range=(0,5))\n",
    "hist_test, bin_edges_test = np.histogram(y_test, bins=5, range=(0,5))\n",
    "fig,ax = plt.subplots()\n",
    "ax.bar( bin_edges_test[:-1],hist_test, width=.98,align=\"edge\",color=\"orange\",label=\"Test data\")\n",
    "ax.bar( bin_edges_tr[:-1],hist_tr, width=.98,align=\"edge\",bottom=hist_test,label=\"Train data\")\n",
    "ax.set_title(\"Test Split with Stratification\")\n",
    "ax.legend()\n",
    "plt.show()"
   ]
  },
  {
   "cell_type": "code",
   "execution_count": 34,
   "metadata": {},
   "outputs": [
    {
     "data": {
      "text/plain": [
       "array([1. , 0.9, 0.8, 0.7, 0.6, 0.5, 0.4, 0.3, 0.2, 0.1, 0. , 0.1, 0.2,\n",
       "       0.3, 0.4, 0.5, 0.6, 0.7, 0.8, 0.9, 1. ])"
      ]
     },
     "execution_count": 34,
     "metadata": {},
     "output_type": "execute_result"
    }
   ],
   "source": [
    "np.array([abs(x)*0.1 for x in range(-10,11)])"
   ]
  },
  {
   "cell_type": "code",
   "execution_count": 44,
   "metadata": {},
   "outputs": [],
   "source": [
    "from sklearn.model_selection import GridSearchCV\n",
    "from sklearn.metrics import r2_score\n",
    "# we use r2 because we are doing regression, not classification\n",
    "\n",
    "class Scorer:\n",
    "    def __init__(self,X,y):\n",
    "        self.scores = {}\n",
    "        self.X = X\n",
    "        self.y = y\n",
    "        self.split = 0.25\n",
    "        self.stratify = np.array(y,dtype=\"int\")\n",
    "        self.iterations = 20\n",
    "    \n",
    "    def set_stratify(self,state):\n",
    "        if state:\n",
    "            self.stratify = np.array(y,dtype=\"int\")\n",
    "        else:\n",
    "            self.stratify = None\n",
    "        \n",
    "    def test(self,name,clf,iterations):\n",
    "        scores = []\n",
    "        for i in range(iterations):\n",
    "            X_train, X_test, y_train, y_test = train_test_split(X,y,test_size=self.split,\n",
    "                                                                random_state=i,stratify=self.stratify)\n",
    "            clf.fit(X_train,y_train)\n",
    "            y_predict_tr = clf.predict(X_train)\n",
    "            y_predict = clf.predict(X_test)    \n",
    "            scores.append([r2_score(y_train,y_predict_tr),r2_score(y_test,y_predict)])  \n",
    "        scores = np.array(scores)\n",
    "        self.scores[name] = [np.mean(scores[:,0]),np.mean(scores[:,1])]\n",
    "        \n",
    "    def test_m(self,preds,iterations):\n",
    "        for predictor in preds:   \n",
    "            self.test(predictor,pred[predictor],iterations)\n",
    "\n",
    "    \n",
    "    def labels(self):\n",
    "        return [x for x in self.scores]\n",
    "                        \n",
    "    def train_scores(self):\n",
    "        sc = np.array([self.scores[x] for x in self.scores])\n",
    "        return sc[:,0]\n",
    "        \n",
    "    def test_scores(self):\n",
    "        sc = np.array([self.scores[x] for x in self.scores])\n",
    "        return sc[:,1]\n",
    "    \n",
    "\n",
    "    def find_best_params(self,clf,grid):\n",
    "        X_train, X_test, y_train, y_test = train_test_split(X,y,test_size=self.split,\n",
    "                                                        stratify=self.stratify)\n",
    "        gd_sr = GridSearchCV(estimator=clf,\n",
    "                               param_grid=grid,\n",
    "                               scoring='r2', # note the use of scoring here.\n",
    "                               cv=5, iid=False)\n",
    "        gd_sr.fit(X_train, y_train)\n",
    "        return gd_sr.best_params_\n",
    "\n",
    "    def draw_twscores(self):\n",
    "        plt.rcdefaults()\n",
    "        fig, ax = plt.subplots()\n",
    "\n",
    "        # Example data\n",
    "        labels = self.labels()\n",
    "        x_pos = np.array([x*0.1 for x in range(-10,11)])\n",
    "        y_pos = np.arange(len(labels))\n",
    "        performance = self.train_scores()\n",
    "        width = 0.4  # the width of the bars\n",
    "        # ax.barh(y_pos, performance, align='center')\n",
    "        rects1 = ax.barh(y_pos, self.train_scores(), width, label='Train Score')\n",
    "        rects2 = ax.barh(y_pos, -1*self.test_scores(), width, label='Test Score')\n",
    "        ax.set_yticks(y_pos)\n",
    "        ax.set_xticks(x_pos)\n",
    "        ax.set_yticklabels(labels)\n",
    "        ax.invert_yaxis()  # labels read top-to-bottom\n",
    "        def autolabel(rects):\n",
    "            \"\"\"Attach a text label above each bar in *rects*, displaying its height.\"\"\"\n",
    "            \n",
    "            for rect in rects:\n",
    "                width = rect.get_width()\n",
    "                i = 0\n",
    "                if width < 0:\n",
    "                    i = abs(width)+45\n",
    "                elif width < 0.1:\n",
    "                    i = 30\n",
    "                ax.annotate('{:.3f}'.format(width),\n",
    "                            xy=(width, rect.get_y() + rect.get_height() / 2),\n",
    "                            xytext=(i,0),  # 3 points vertical offset\n",
    "                            textcoords=\"offset points\",\n",
    "                            va='center', ha='right')\n",
    "        autolabel(rects1)\n",
    "        autolabel(rects2)\n",
    "        fig = plt.gcf()\n",
    "#         fig.set_size_inches(6,6) \n",
    "        ax.set_xlabel('Performance')\n",
    "        ax.set_title('R2 Scores by Predictors')\n",
    "    \n",
    "    def draw_hscores(self):\n",
    "        plt.rcdefaults()\n",
    "        fig, ax = plt.subplots()\n",
    "\n",
    "        # Example data\n",
    "        labels = self.labels()\n",
    "        x_pos = np.linspace(0,1,11)\n",
    "        y_pos = np.arange(len(labels))\n",
    "        performance = self.train_scores()\n",
    "        width = 0.4  # the width of the bars\n",
    "        # ax.barh(y_pos, performance, align='center')\n",
    "        rects1 = ax.barh(y_pos - width/2, self.train_scores(), width, label='Train Score')\n",
    "        rects2 = ax.barh(y_pos + width/2, self.test_scores(), width, label='Test Score')\n",
    "        ax.set_yticks(y_pos)\n",
    "        ax.set_xticks(x_pos)\n",
    "        ax.set_yticklabels(labels)\n",
    "        ax.invert_yaxis()  # labels read top-to-bottom\n",
    "        def autolabel(rects):\n",
    "            \"\"\"Attach a text label above each bar in *rects*, displaying its height.\"\"\"\n",
    "            for rect in rects:\n",
    "                width = rect.get_width()\n",
    "                i = 0\n",
    "                if width < 0:\n",
    "                    i = abs(width)+45\n",
    "                elif width < 0.1:\n",
    "                    i = 30\n",
    "                ax.annotate('{:.3f}'.format(width),\n",
    "                            xy=(width, rect.get_y() + rect.get_height() / 2),\n",
    "                            xytext=(i,0),  # 3 points vertical offset\n",
    "                            textcoords=\"offset points\",\n",
    "                            va='center', ha='right')\n",
    "        autolabel(rects1)\n",
    "        autolabel(rects2)\n",
    "        fig = plt.gcf()\n",
    "#         fig.set_size_inches(6,6) \n",
    "        ax.set_xlabel('Performance')\n",
    "        ax.set_title('R2 Scores by Predictors')\n",
    "        \n",
    "    def draw_scores(self):\n",
    "        if (len(self.labels())>=6):\n",
    "            self.draw_hscores()\n",
    "        else:\n",
    "            x = np.arange(len(self.labels()))  # the label locations\n",
    "    #         y = np.linspace(0,1,11,endpoint=True)\n",
    "            width = 0.35  # the width of the bars\n",
    "            fig, ax = plt.subplots()\n",
    "            rects1 = ax.bar(x - width/2, self.train_scores(), width, label='Train Score')\n",
    "            rects2 = ax.bar(x + width/2, self.test_scores(), width, label='Test Score')\n",
    "            # Add some text for labels, title and custom x-axis tick labels, etc.\n",
    "            ax.set_ylabel('R2 Scores')\n",
    "            ax.set_title('R2 Scores by Predictors')\n",
    "            ax.set_xticks(x)\n",
    "    #         ax.set_yticks(y)\n",
    "            ax.set_xticklabels(self.labels())\n",
    "            ax.legend()\n",
    "\n",
    "            def autolabel(rects):\n",
    "                \"\"\"Attach a text label above each bar in *rects*, displaying its height.\"\"\"\n",
    "                for rect in rects:\n",
    "                    height = rect.get_height()\n",
    "                    i = 0\n",
    "                    if height < 0:\n",
    "                        i = abs(height)+10\n",
    "                    ax.annotate('{:.3f}'.format(height),\n",
    "                                xy=(rect.get_x() + rect.get_width() / 2, height),\n",
    "                                xytext=(0, 1+i),  # 3 points vertical offset\n",
    "                                textcoords=\"offset points\",\n",
    "                                ha='center', va='bottom')\n",
    "\n",
    "            autolabel(rects1)\n",
    "            autolabel(rects2)\n",
    "            fig = plt.gcf()\n",
    "#             fig.set_size_inches(7,6)        \n",
    "            plt.show()\n",
    "    \n",
    "    \n",
    "               \n",
    "    def plot_graph(y,y_pred,title):\n",
    "        fig, ax = plt.subplots()\n",
    "        plt.axis([0,5,0,5])\n",
    "        ax.set_title(title)\n",
    "        plt.plot(y,y_pred,'o',color=\"black\")\n",
    "        plt.plot([x for x in np.arange(0,6)],[x for x in np.arange(0,6)],'r--',)\n",
    "        plt.show()\n",
    "    \n",
    "    def clear_scores(self):\n",
    "        self.scores = {}"
   ]
  },
  {
   "cell_type": "code",
   "execution_count": 45,
   "metadata": {},
   "outputs": [],
   "source": [
    "scorer = Scorer(X,y)"
   ]
  },
  {
   "cell_type": "code",
   "execution_count": 39,
   "metadata": {
    "scrolled": false
   },
   "outputs": [
    {
     "data": {
      "image/png": "[encoded data removed]",
      "text/plain": [
       "<Figure size 640x480 with 1 Axes>"
      ]
     },
     "metadata": {},
     "output_type": "display_data"
    }
   ],
   "source": [
    "from sklearn.svm import SVR\n",
    "from sklearn.ensemble import RandomForestRegressor\n",
    "from xgboost import XGBRegressor\n",
    "\n",
    "xgb = XGBRegressor()\n",
    "svr = SVR()\n",
    "rfr = RandomForestRegressor()\n",
    "\n",
    "scorer.clear_scores()\n",
    "\n",
    "scorer.set_stratify(False)\n",
    "\n",
    "scorer.test(\"SVR\",svr,10)\n",
    "scorer.test(\"RFR\",rfr,10)\n",
    "scorer.test(\"XGBoost\",xgb,10)\n",
    "\n",
    "scorer.set_stratify(True)\n",
    "\n",
    "scorer.test(\"SVR_stf\",svr,10)\n",
    "scorer.test(\"RFR_stf\",rfr,10)\n",
    "scorer.test(\"XGBoost_stf\",xgb,10)\n",
    "\n",
    "scorer.draw_scores()"
   ]
  },
  {
   "cell_type": "markdown",
   "metadata": {},
   "source": [
    "### Some intriguing observations:\n",
    "1. Stratification does seem to help with performance\n",
    "2. SVR and XGBoost produce the same result when repeated using the same initial condition. RFR produces different result each time\n"
   ]
  },
  {
   "cell_type": "markdown",
   "metadata": {},
   "source": [
    "### Use Grid Search to Improve our performance"
   ]
  },
  {
   "cell_type": "code",
   "execution_count": 72,
   "metadata": {},
   "outputs": [
    {
     "name": "stdout",
     "output_type": "stream",
     "text": [
      "[LibSVM][LibSVM][LibSVM][LibSVM][LibSVM][LibSVM]"
     ]
    },
    {
     "data": {
      "text/plain": [
       "{'C': 5,\n",
       " 'cache_size': 50,\n",
       " 'coef0': -50,\n",
       " 'degree': 1,\n",
       " 'epsilon': 0.1,\n",
       " 'gamma': 'scale',\n",
       " 'kernel': 'rbf',\n",
       " 'max_iter': -1,\n",
       " 'shrinking': True,\n",
       " 'tol': 0.01,\n",
       " 'verbose': True}"
      ]
     },
     "execution_count": 72,
     "metadata": {},
     "output_type": "execute_result"
    }
   ],
   "source": [
    "SVR(\n",
    "    kernel='rbf',\n",
    "    degree=3,\n",
    "    gamma='auto_deprecated',\n",
    "    coef0=0.0,\n",
    "    tol=0.001,\n",
    "    C=1.0,\n",
    "    epsilon=0.1,\n",
    "    shrinking=True,\n",
    "    cache_size=200,\n",
    "    verbose=False,\n",
    "    max_iter=-1,\n",
    ")\n",
    "\n",
    "SVR_grid = {'kernel':['rbf'],\n",
    "           'degree':[1],\n",
    "           'gamma':['scale'],\n",
    "           'coef0':[-50],\n",
    "           'tol':[0.01],\n",
    "           'C':[5],#>0\n",
    "           'epsilon':[0.1], #>0\n",
    "           'shrinking':[True],\n",
    "           'cache_size':[50],\n",
    "           'verbose':[True],\n",
    "           'max_iter':[-1]}\n",
    "\n",
    "\n",
    "\n",
    "b_param = scorer.find_best_params(svr,SVR_grid)\n",
    "b_param"
   ]
  },
  {
   "cell_type": "code",
   "execution_count": 76,
   "metadata": {
    "scrolled": true
   },
   "outputs": [
    {
     "data": {
      "text/plain": [
       "{'epsilon': 0.1, 'kernel': 'rbf', 'max_iter': -1, 'tol': 0.01}"
      ]
     },
     "execution_count": 76,
     "metadata": {},
     "output_type": "execute_result"
    }
   ],
   "source": [
    "SVR_grid = {'kernel':['poly', 'rbf', 'sigmoid'],\n",
    "#            'degree':[1,5,10],\n",
    "#            'gamma':['scale','auto'],\n",
    "#            'coef0':[-50,0,100],\n",
    "           'tol':[0.01,0.0001],\n",
    "#            'C':[1,5,10],#>0\n",
    "           'epsilon':[0.1,0.001], #>0\n",
    "#            'shrinking':[True,False],\n",
    "#            'cache_size':[50,100,200],\n",
    "#            'verbose':[True],\n",
    "           'max_iter':[-1]}\n",
    "\n",
    "\n",
    "\n",
    "scorer.find_best_params(svr,SVR_grid)"
   ]
  },
  {
   "cell_type": "code",
   "execution_count": null,
   "metadata": {},
   "outputs": [],
   "source": []
  },
  {
   "cell_type": "markdown",
   "metadata": {},
   "source": [
    "### Use SelectKBest "
   ]
  },
  {
   "cell_type": "code",
   "execution_count": null,
   "metadata": {},
   "outputs": [],
   "source": []
  }
 ],
 "metadata": {
  "kernelspec": {
   "display_name": "Python 3",
   "language": "python",
   "name": "python3"
  },
  "language_info": {
   "codemirror_mode": {
    "name": "ipython",
    "version": 3
   },
   "file_extension": ".py",
   "mimetype": "text/x-python",
   "name": "python",
   "nbconvert_exporter": "python",
   "pygments_lexer": "ipython3",
   "version": "3.7.3"
  }
 },
 "nbformat": 4,
 "nbformat_minor": 2
}
